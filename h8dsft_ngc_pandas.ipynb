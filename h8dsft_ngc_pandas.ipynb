{
 "cells": [
  {
   "cell_type": "markdown",
   "metadata": {},
   "source": [
    "# Non Graded Challenge 08"
   ]
  },
  {
   "cell_type": "markdown",
   "metadata": {},
   "source": [
    "## Introduction"
   ]
  },
  {
   "cell_type": "code",
   "execution_count": null,
   "metadata": {},
   "outputs": [],
   "source": [
    "'''\n",
    "=================================================\n",
    "Non Graded Challenge 08\n",
    "\n",
    "Nama  : Diko Alfatha Ikhram\n",
    "Batch : RMT-29\n",
    "\n",
    "Program ini dibuat untuk Data Loading,Data Cleaning, Data Exploration dan Conclusion\n",
    "=================================================\n",
    "'''"
   ]
  },
  {
   "cell_type": "markdown",
   "metadata": {},
   "source": [
    "## Libraries"
   ]
  },
  {
   "cell_type": "code",
   "execution_count": 17,
   "metadata": {},
   "outputs": [],
   "source": [
    "import pandas as pd\n",
    "import numpy as np"
   ]
  },
  {
   "cell_type": "markdown",
   "metadata": {},
   "source": [
    "## Data Loading"
   ]
  },
  {
   "cell_type": "code",
   "execution_count": 188,
   "metadata": {},
   "outputs": [
    {
     "data": {
      "text/html": [
       "<div>\n",
       "<style scoped>\n",
       "    .dataframe tbody tr th:only-of-type {\n",
       "        vertical-align: middle;\n",
       "    }\n",
       "\n",
       "    .dataframe tbody tr th {\n",
       "        vertical-align: top;\n",
       "    }\n",
       "\n",
       "    .dataframe thead th {\n",
       "        text-align: right;\n",
       "    }\n",
       "</style>\n",
       "<table border=\"1\" class=\"dataframe\">\n",
       "  <thead>\n",
       "    <tr style=\"text-align: right;\">\n",
       "      <th></th>\n",
       "      <th>province_state</th>\n",
       "      <th>country_region</th>\n",
       "      <th>date</th>\n",
       "      <th>latitude</th>\n",
       "      <th>longitude</th>\n",
       "      <th>location_geom</th>\n",
       "      <th>confirmed</th>\n",
       "      <th>deaths</th>\n",
       "      <th>recovered</th>\n",
       "      <th>active</th>\n",
       "      <th>fips</th>\n",
       "      <th>admin2</th>\n",
       "      <th>combined_key</th>\n",
       "    </tr>\n",
       "  </thead>\n",
       "  <tbody>\n",
       "    <tr>\n",
       "      <th>0</th>\n",
       "      <td>NaN</td>\n",
       "      <td>Malaysia</td>\n",
       "      <td>2020-03-08</td>\n",
       "      <td>2.5000</td>\n",
       "      <td>112.5000</td>\n",
       "      <td>POINT(112.5 2.5)</td>\n",
       "      <td>99.0</td>\n",
       "      <td>0.0</td>\n",
       "      <td>24.0</td>\n",
       "      <td>NaN</td>\n",
       "      <td>NaN</td>\n",
       "      <td>NaN</td>\n",
       "      <td>NaN</td>\n",
       "    </tr>\n",
       "    <tr>\n",
       "      <th>1</th>\n",
       "      <td>NaN</td>\n",
       "      <td>Malaysia</td>\n",
       "      <td>2020-03-10</td>\n",
       "      <td>2.5000</td>\n",
       "      <td>112.5000</td>\n",
       "      <td>POINT(112.5 2.5)</td>\n",
       "      <td>129.0</td>\n",
       "      <td>0.0</td>\n",
       "      <td>24.0</td>\n",
       "      <td>NaN</td>\n",
       "      <td>NaN</td>\n",
       "      <td>NaN</td>\n",
       "      <td>NaN</td>\n",
       "    </tr>\n",
       "    <tr>\n",
       "      <th>2</th>\n",
       "      <td>NaN</td>\n",
       "      <td>Singapore</td>\n",
       "      <td>2020-03-13</td>\n",
       "      <td>1.3521</td>\n",
       "      <td>103.8198</td>\n",
       "      <td>POINT(103.8198 1.3521)</td>\n",
       "      <td>200.0</td>\n",
       "      <td>0.0</td>\n",
       "      <td>97.0</td>\n",
       "      <td>NaN</td>\n",
       "      <td>NaN</td>\n",
       "      <td>NaN</td>\n",
       "      <td>NaN</td>\n",
       "    </tr>\n",
       "    <tr>\n",
       "      <th>3</th>\n",
       "      <td>NaN</td>\n",
       "      <td>Malaysia</td>\n",
       "      <td>2020-03-13</td>\n",
       "      <td>4.2105</td>\n",
       "      <td>101.9758</td>\n",
       "      <td>POINT(101.9758 4.2105)</td>\n",
       "      <td>197.0</td>\n",
       "      <td>0.0</td>\n",
       "      <td>26.0</td>\n",
       "      <td>NaN</td>\n",
       "      <td>NaN</td>\n",
       "      <td>NaN</td>\n",
       "      <td>NaN</td>\n",
       "    </tr>\n",
       "    <tr>\n",
       "      <th>4</th>\n",
       "      <td>NaN</td>\n",
       "      <td>Malaysia</td>\n",
       "      <td>2020-03-15</td>\n",
       "      <td>4.2105</td>\n",
       "      <td>101.9758</td>\n",
       "      <td>POINT(101.9758 4.2105)</td>\n",
       "      <td>428.0</td>\n",
       "      <td>0.0</td>\n",
       "      <td>42.0</td>\n",
       "      <td>NaN</td>\n",
       "      <td>NaN</td>\n",
       "      <td>NaN</td>\n",
       "      <td>NaN</td>\n",
       "    </tr>\n",
       "    <tr>\n",
       "      <th>...</th>\n",
       "      <td>...</td>\n",
       "      <td>...</td>\n",
       "      <td>...</td>\n",
       "      <td>...</td>\n",
       "      <td>...</td>\n",
       "      <td>...</td>\n",
       "      <td>...</td>\n",
       "      <td>...</td>\n",
       "      <td>...</td>\n",
       "      <td>...</td>\n",
       "      <td>...</td>\n",
       "      <td>...</td>\n",
       "      <td>...</td>\n",
       "    </tr>\n",
       "    <tr>\n",
       "      <th>11925</th>\n",
       "      <td>Pahang</td>\n",
       "      <td>Malaysia</td>\n",
       "      <td>2022-06-02</td>\n",
       "      <td>3.8126</td>\n",
       "      <td>103.3256</td>\n",
       "      <td>POINT(103.3256 3.8126)</td>\n",
       "      <td>171734.0</td>\n",
       "      <td>975.0</td>\n",
       "      <td>NaN</td>\n",
       "      <td>NaN</td>\n",
       "      <td>NaN</td>\n",
       "      <td>NaN</td>\n",
       "      <td>Pahang, Malaysia</td>\n",
       "    </tr>\n",
       "    <tr>\n",
       "      <th>11926</th>\n",
       "      <td>Pahang</td>\n",
       "      <td>Malaysia</td>\n",
       "      <td>2022-04-29</td>\n",
       "      <td>3.8126</td>\n",
       "      <td>103.3256</td>\n",
       "      <td>POINT(103.3256 3.8126)</td>\n",
       "      <td>170740.0</td>\n",
       "      <td>970.0</td>\n",
       "      <td>NaN</td>\n",
       "      <td>NaN</td>\n",
       "      <td>NaN</td>\n",
       "      <td>NaN</td>\n",
       "      <td>Pahang, Malaysia</td>\n",
       "    </tr>\n",
       "    <tr>\n",
       "      <th>11927</th>\n",
       "      <td>Pahang</td>\n",
       "      <td>Malaysia</td>\n",
       "      <td>2022-01-10</td>\n",
       "      <td>3.8126</td>\n",
       "      <td>103.3256</td>\n",
       "      <td>POINT(103.3256 3.8126)</td>\n",
       "      <td>97320.0</td>\n",
       "      <td>782.0</td>\n",
       "      <td>NaN</td>\n",
       "      <td>NaN</td>\n",
       "      <td>NaN</td>\n",
       "      <td>NaN</td>\n",
       "      <td>Pahang, Malaysia</td>\n",
       "    </tr>\n",
       "    <tr>\n",
       "      <th>11928</th>\n",
       "      <td>Pahang</td>\n",
       "      <td>Malaysia</td>\n",
       "      <td>2023-02-25</td>\n",
       "      <td>3.8126</td>\n",
       "      <td>103.3256</td>\n",
       "      <td>POINT(103.3256 3.8126)</td>\n",
       "      <td>182730.0</td>\n",
       "      <td>1031.0</td>\n",
       "      <td>NaN</td>\n",
       "      <td>NaN</td>\n",
       "      <td>NaN</td>\n",
       "      <td>NaN</td>\n",
       "      <td>Pahang, Malaysia</td>\n",
       "    </tr>\n",
       "    <tr>\n",
       "      <th>11929</th>\n",
       "      <td>Pahang</td>\n",
       "      <td>Malaysia</td>\n",
       "      <td>2022-09-29</td>\n",
       "      <td>3.8126</td>\n",
       "      <td>103.3256</td>\n",
       "      <td>POINT(103.3256 3.8126)</td>\n",
       "      <td>177522.0</td>\n",
       "      <td>1008.0</td>\n",
       "      <td>NaN</td>\n",
       "      <td>NaN</td>\n",
       "      <td>NaN</td>\n",
       "      <td>NaN</td>\n",
       "      <td>Pahang, Malaysia</td>\n",
       "    </tr>\n",
       "  </tbody>\n",
       "</table>\n",
       "<p>11930 rows × 13 columns</p>\n",
       "</div>"
      ],
      "text/plain": [
       "      province_state country_region        date  latitude  longitude  \\\n",
       "0                NaN       Malaysia  2020-03-08    2.5000   112.5000   \n",
       "1                NaN       Malaysia  2020-03-10    2.5000   112.5000   \n",
       "2                NaN      Singapore  2020-03-13    1.3521   103.8198   \n",
       "3                NaN       Malaysia  2020-03-13    4.2105   101.9758   \n",
       "4                NaN       Malaysia  2020-03-15    4.2105   101.9758   \n",
       "...              ...            ...         ...       ...        ...   \n",
       "11925         Pahang       Malaysia  2022-06-02    3.8126   103.3256   \n",
       "11926         Pahang       Malaysia  2022-04-29    3.8126   103.3256   \n",
       "11927         Pahang       Malaysia  2022-01-10    3.8126   103.3256   \n",
       "11928         Pahang       Malaysia  2023-02-25    3.8126   103.3256   \n",
       "11929         Pahang       Malaysia  2022-09-29    3.8126   103.3256   \n",
       "\n",
       "                location_geom  confirmed  deaths  recovered  active  fips  \\\n",
       "0            POINT(112.5 2.5)       99.0     0.0       24.0     NaN   NaN   \n",
       "1            POINT(112.5 2.5)      129.0     0.0       24.0     NaN   NaN   \n",
       "2      POINT(103.8198 1.3521)      200.0     0.0       97.0     NaN   NaN   \n",
       "3      POINT(101.9758 4.2105)      197.0     0.0       26.0     NaN   NaN   \n",
       "4      POINT(101.9758 4.2105)      428.0     0.0       42.0     NaN   NaN   \n",
       "...                       ...        ...     ...        ...     ...   ...   \n",
       "11925  POINT(103.3256 3.8126)   171734.0   975.0        NaN     NaN   NaN   \n",
       "11926  POINT(103.3256 3.8126)   170740.0   970.0        NaN     NaN   NaN   \n",
       "11927  POINT(103.3256 3.8126)    97320.0   782.0        NaN     NaN   NaN   \n",
       "11928  POINT(103.3256 3.8126)   182730.0  1031.0        NaN     NaN   NaN   \n",
       "11929  POINT(103.3256 3.8126)   177522.0  1008.0        NaN     NaN   NaN   \n",
       "\n",
       "       admin2      combined_key  \n",
       "0         NaN               NaN  \n",
       "1         NaN               NaN  \n",
       "2         NaN               NaN  \n",
       "3         NaN               NaN  \n",
       "4         NaN               NaN  \n",
       "...       ...               ...  \n",
       "11925     NaN  Pahang, Malaysia  \n",
       "11926     NaN  Pahang, Malaysia  \n",
       "11927     NaN  Pahang, Malaysia  \n",
       "11928     NaN  Pahang, Malaysia  \n",
       "11929     NaN  Pahang, Malaysia  \n",
       "\n",
       "[11930 rows x 13 columns]"
      ]
     },
     "execution_count": 188,
     "metadata": {},
     "output_type": "execute_result"
    }
   ],
   "source": [
    "# mengamil dataset dari link\n",
    "df = pd.read_csv('https://raw.githubusercontent.com/FTDS-learning-materials/phase-0/main/src/data_ngc.csv')\n",
    "df.to_excel('output.xlsx')\n",
    "# membuat backup dataframe\n",
    "dfBackup = df\n",
    "\n",
    "# recover dataframe dari backup\n",
    "# df = dfBackup\n",
    "\n",
    "# cek dataframe\n",
    "df"
   ]
  },
  {
   "cell_type": "markdown",
   "metadata": {},
   "source": [
    "## Data Cleaning"
   ]
  },
  {
   "cell_type": "markdown",
   "metadata": {},
   "source": [
    "### Delete unused columns"
   ]
  },
  {
   "cell_type": "code",
   "execution_count": 189,
   "metadata": {},
   "outputs": [],
   "source": [
    "df.drop(columns=['fips','admin2'], axis= 1, inplace=True)"
   ]
  },
  {
   "cell_type": "markdown",
   "metadata": {},
   "source": [
    "### Handling Missing Values"
   ]
  },
  {
   "cell_type": "code",
   "execution_count": 190,
   "metadata": {},
   "outputs": [
    {
     "data": {
      "text/plain": [
       "province_state     2852\n",
       "country_region        0\n",
       "date                  0\n",
       "latitude            609\n",
       "longitude           609\n",
       "location_geom       609\n",
       "confirmed             1\n",
       "deaths               17\n",
       "recovered         10290\n",
       "active            10410\n",
       "combined_key        137\n",
       "dtype: int64"
      ]
     },
     "execution_count": 190,
     "metadata": {},
     "output_type": "execute_result"
    }
   ],
   "source": [
    "# cek value yang tidak ada\n",
    "df.isnull().sum()"
   ]
  },
  {
   "cell_type": "code",
   "execution_count": 191,
   "metadata": {},
   "outputs": [
    {
     "name": "stderr",
     "output_type": "stream",
     "text": [
      "C:\\Users\\dikoa\\AppData\\Local\\Temp\\ipykernel_8908\\2798202196.py:2: FutureWarning: A value is trying to be set on a copy of a DataFrame or Series through chained assignment using an inplace method.\n",
      "The behavior will change in pandas 3.0. This inplace method will never work because the intermediate object on which we are setting values always behaves as a copy.\n",
      "\n",
      "For example, when doing 'df[col].method(value, inplace=True)', try using 'df.method({col: value}, inplace=True)' or df[col] = df[col].method(value) instead, to perform the operation inplace on the original object.\n",
      "\n",
      "\n",
      "  df['province_state'].fillna('Unknown', inplace=True)\n",
      "C:\\Users\\dikoa\\AppData\\Local\\Temp\\ipykernel_8908\\2798202196.py:3: FutureWarning: A value is trying to be set on a copy of a DataFrame or Series through chained assignment using an inplace method.\n",
      "The behavior will change in pandas 3.0. This inplace method will never work because the intermediate object on which we are setting values always behaves as a copy.\n",
      "\n",
      "For example, when doing 'df[col].method(value, inplace=True)', try using 'df.method({col: value}, inplace=True)' or df[col] = df[col].method(value) instead, to perform the operation inplace on the original object.\n",
      "\n",
      "\n",
      "  df['latitude'].fillna(0, inplace=True)\n",
      "C:\\Users\\dikoa\\AppData\\Local\\Temp\\ipykernel_8908\\2798202196.py:4: FutureWarning: A value is trying to be set on a copy of a DataFrame or Series through chained assignment using an inplace method.\n",
      "The behavior will change in pandas 3.0. This inplace method will never work because the intermediate object on which we are setting values always behaves as a copy.\n",
      "\n",
      "For example, when doing 'df[col].method(value, inplace=True)', try using 'df.method({col: value}, inplace=True)' or df[col] = df[col].method(value) instead, to perform the operation inplace on the original object.\n",
      "\n",
      "\n",
      "  df['longitude'].fillna(0, inplace=True)\n",
      "C:\\Users\\dikoa\\AppData\\Local\\Temp\\ipykernel_8908\\2798202196.py:6: FutureWarning: A value is trying to be set on a copy of a DataFrame or Series through chained assignment using an inplace method.\n",
      "The behavior will change in pandas 3.0. This inplace method will never work because the intermediate object on which we are setting values always behaves as a copy.\n",
      "\n",
      "For example, when doing 'df[col].method(value, inplace=True)', try using 'df.method({col: value}, inplace=True)' or df[col] = df[col].method(value) instead, to perform the operation inplace on the original object.\n",
      "\n",
      "\n",
      "  df['confirmed'].fillna(0, inplace=True)\n",
      "C:\\Users\\dikoa\\AppData\\Local\\Temp\\ipykernel_8908\\2798202196.py:7: FutureWarning: A value is trying to be set on a copy of a DataFrame or Series through chained assignment using an inplace method.\n",
      "The behavior will change in pandas 3.0. This inplace method will never work because the intermediate object on which we are setting values always behaves as a copy.\n",
      "\n",
      "For example, when doing 'df[col].method(value, inplace=True)', try using 'df.method({col: value}, inplace=True)' or df[col] = df[col].method(value) instead, to perform the operation inplace on the original object.\n",
      "\n",
      "\n",
      "  df['deaths'].fillna(0, inplace=True)\n",
      "C:\\Users\\dikoa\\AppData\\Local\\Temp\\ipykernel_8908\\2798202196.py:8: FutureWarning: A value is trying to be set on a copy of a DataFrame or Series through chained assignment using an inplace method.\n",
      "The behavior will change in pandas 3.0. This inplace method will never work because the intermediate object on which we are setting values always behaves as a copy.\n",
      "\n",
      "For example, when doing 'df[col].method(value, inplace=True)', try using 'df.method({col: value}, inplace=True)' or df[col] = df[col].method(value) instead, to perform the operation inplace on the original object.\n",
      "\n",
      "\n",
      "  df['recovered'].fillna(0, inplace=True)\n",
      "C:\\Users\\dikoa\\AppData\\Local\\Temp\\ipykernel_8908\\2798202196.py:9: FutureWarning: A value is trying to be set on a copy of a DataFrame or Series through chained assignment using an inplace method.\n",
      "The behavior will change in pandas 3.0. This inplace method will never work because the intermediate object on which we are setting values always behaves as a copy.\n",
      "\n",
      "For example, when doing 'df[col].method(value, inplace=True)', try using 'df.method({col: value}, inplace=True)' or df[col] = df[col].method(value) instead, to perform the operation inplace on the original object.\n",
      "\n",
      "\n",
      "  df['active'].fillna(0, inplace=True)\n"
     ]
    },
    {
     "data": {
      "text/plain": [
       "province_state    0\n",
       "country_region    0\n",
       "date              0\n",
       "latitude          0\n",
       "longitude         0\n",
       "location_geom     0\n",
       "confirmed         0\n",
       "deaths            0\n",
       "recovered         0\n",
       "active            0\n",
       "combined_key      0\n",
       "dtype: int64"
      ]
     },
     "execution_count": 191,
     "metadata": {},
     "output_type": "execute_result"
    }
   ],
   "source": [
    "# mengganti value yang tidak ada\n",
    "df['province_state'].fillna('Unknown', inplace=True)\n",
    "df['latitude'].fillna(0, inplace=True)\n",
    "df['longitude'].fillna(0, inplace=True)\n",
    "df['location_geom'] = 'POINT(' + df['longitude'].astype(str) + ' ' + df['latitude'].astype(str) + ')'\n",
    "df['confirmed'].fillna(0, inplace=True)\n",
    "df['deaths'].fillna(0, inplace=True)\n",
    "df['recovered'].fillna(0, inplace=True)\n",
    "df['active'].fillna(0, inplace=True)\n",
    "df['combined_key'] = df['province_state'] + ', ' + df['country_region']\n",
    "\n",
    "# cek value yang tidak ada setelah diganti valuenya\n",
    "df.isnull().sum()"
   ]
  },
  {
   "cell_type": "markdown",
   "metadata": {},
   "source": [
    "Mengganti value yang tidak ada dengan value unknown atau 0, value location_geom dengan data dari longitude dan latitude, dan value combined_key dengan data dari province_state dan country_region"
   ]
  },
  {
   "cell_type": "markdown",
   "metadata": {},
   "source": [
    "### Handling Data Duplicate"
   ]
  },
  {
   "cell_type": "code",
   "execution_count": 184,
   "metadata": {},
   "outputs": [
    {
     "data": {
      "text/plain": [
       "0"
      ]
     },
     "execution_count": 184,
     "metadata": {},
     "output_type": "execute_result"
    }
   ],
   "source": [
    "# cek duplikasi\n",
    "duplicates = df.duplicated()\n",
    "duplicates.sum()"
   ]
  },
  {
   "cell_type": "markdown",
   "metadata": {},
   "source": [
    "karna tidak ada data duplicate maka proses duplicate dihentikan sampai pengecekan"
   ]
  },
  {
   "cell_type": "markdown",
   "metadata": {},
   "source": [
    "### Incosistent Data Handling"
   ]
  },
  {
   "cell_type": "code",
   "execution_count": 192,
   "metadata": {},
   "outputs": [
    {
     "name": "stdout",
     "output_type": "stream",
     "text": [
      "<class 'pandas.core.frame.DataFrame'>\n",
      "RangeIndex: 11930 entries, 0 to 11929\n",
      "Data columns (total 11 columns):\n",
      " #   Column          Non-Null Count  Dtype  \n",
      "---  ------          --------------  -----  \n",
      " 0   province_state  11930 non-null  object \n",
      " 1   country_region  11930 non-null  object \n",
      " 2   date            11930 non-null  object \n",
      " 3   latitude        11930 non-null  float64\n",
      " 4   longitude       11930 non-null  float64\n",
      " 5   location_geom   11930 non-null  object \n",
      " 6   confirmed       11930 non-null  float64\n",
      " 7   deaths          11930 non-null  float64\n",
      " 8   recovered       11930 non-null  float64\n",
      " 9   active          11930 non-null  float64\n",
      " 10  combined_key    11930 non-null  object \n",
      "dtypes: float64(6), object(5)\n",
      "memory usage: 1.0+ MB\n"
     ]
    }
   ],
   "source": [
    "# cek tipe data\n",
    "df.info()"
   ]
  },
  {
   "cell_type": "code",
   "execution_count": 193,
   "metadata": {},
   "outputs": [
    {
     "name": "stdout",
     "output_type": "stream",
     "text": [
      "<class 'pandas.core.frame.DataFrame'>\n",
      "RangeIndex: 11930 entries, 0 to 11929\n",
      "Data columns (total 11 columns):\n",
      " #   Column          Non-Null Count  Dtype         \n",
      "---  ------          --------------  -----         \n",
      " 0   province_state  11930 non-null  object        \n",
      " 1   country_region  11930 non-null  object        \n",
      " 2   date            11930 non-null  datetime64[ns]\n",
      " 3   latitude        11930 non-null  float64       \n",
      " 4   longitude       11930 non-null  float64       \n",
      " 5   location_geom   11930 non-null  object        \n",
      " 6   confirmed       11930 non-null  int32         \n",
      " 7   deaths          11930 non-null  int32         \n",
      " 8   recovered       11930 non-null  int32         \n",
      " 9   active          11930 non-null  int32         \n",
      " 10  combined_key    11930 non-null  object        \n",
      "dtypes: datetime64[ns](1), float64(2), int32(4), object(4)\n",
      "memory usage: 839.0+ KB\n"
     ]
    }
   ],
   "source": [
    "# mengganti tipe data yang salah\n",
    "df['date'] = pd.to_datetime(df['date'])\n",
    "df['confirmed'] = df['confirmed'].astype(int)\n",
    "df['deaths'] = df['deaths'].astype(int)\n",
    "df['recovered'] = df['recovered'].astype(int)\n",
    "df['active'] = df['active'].astype(int)\n",
    "\n",
    "# cek tipe data setelah mengganti tipe datanya\n",
    "df.info()"
   ]
  },
  {
   "cell_type": "markdown",
   "metadata": {},
   "source": [
    "mengubah kolom date pada dataframe dari type object menjadi date, dan mengubah kolom confirmed, deaths, recovered,active menjadi int"
   ]
  },
  {
   "cell_type": "markdown",
   "metadata": {},
   "source": [
    "## Data Exploration"
   ]
  },
  {
   "cell_type": "code",
   "execution_count": 194,
   "metadata": {},
   "outputs": [
    {
     "data": {
      "text/html": [
       "<div>\n",
       "<style scoped>\n",
       "    .dataframe tbody tr th:only-of-type {\n",
       "        vertical-align: middle;\n",
       "    }\n",
       "\n",
       "    .dataframe tbody tr th {\n",
       "        vertical-align: top;\n",
       "    }\n",
       "\n",
       "    .dataframe thead th {\n",
       "        text-align: right;\n",
       "    }\n",
       "</style>\n",
       "<table border=\"1\" class=\"dataframe\">\n",
       "  <thead>\n",
       "    <tr style=\"text-align: right;\">\n",
       "      <th></th>\n",
       "      <th>province_state</th>\n",
       "      <th>country_region</th>\n",
       "      <th>date</th>\n",
       "      <th>latitude</th>\n",
       "      <th>longitude</th>\n",
       "      <th>location_geom</th>\n",
       "      <th>confirmed</th>\n",
       "      <th>deaths</th>\n",
       "      <th>recovered</th>\n",
       "      <th>active</th>\n",
       "      <th>combined_key</th>\n",
       "    </tr>\n",
       "  </thead>\n",
       "  <tbody>\n",
       "    <tr>\n",
       "      <th>0</th>\n",
       "      <td>Unknown</td>\n",
       "      <td>Malaysia</td>\n",
       "      <td>2020-03-08</td>\n",
       "      <td>2.5000</td>\n",
       "      <td>112.5000</td>\n",
       "      <td>POINT(112.5 2.5)</td>\n",
       "      <td>99</td>\n",
       "      <td>0</td>\n",
       "      <td>24</td>\n",
       "      <td>0</td>\n",
       "      <td>Unknown, Malaysia</td>\n",
       "    </tr>\n",
       "    <tr>\n",
       "      <th>1</th>\n",
       "      <td>Unknown</td>\n",
       "      <td>Malaysia</td>\n",
       "      <td>2020-03-10</td>\n",
       "      <td>2.5000</td>\n",
       "      <td>112.5000</td>\n",
       "      <td>POINT(112.5 2.5)</td>\n",
       "      <td>129</td>\n",
       "      <td>0</td>\n",
       "      <td>24</td>\n",
       "      <td>0</td>\n",
       "      <td>Unknown, Malaysia</td>\n",
       "    </tr>\n",
       "    <tr>\n",
       "      <th>2</th>\n",
       "      <td>Unknown</td>\n",
       "      <td>Singapore</td>\n",
       "      <td>2020-03-13</td>\n",
       "      <td>1.3521</td>\n",
       "      <td>103.8198</td>\n",
       "      <td>POINT(103.8198 1.3521)</td>\n",
       "      <td>200</td>\n",
       "      <td>0</td>\n",
       "      <td>97</td>\n",
       "      <td>0</td>\n",
       "      <td>Unknown, Singapore</td>\n",
       "    </tr>\n",
       "    <tr>\n",
       "      <th>3</th>\n",
       "      <td>Unknown</td>\n",
       "      <td>Malaysia</td>\n",
       "      <td>2020-03-13</td>\n",
       "      <td>4.2105</td>\n",
       "      <td>101.9758</td>\n",
       "      <td>POINT(101.9758 4.2105)</td>\n",
       "      <td>197</td>\n",
       "      <td>0</td>\n",
       "      <td>26</td>\n",
       "      <td>0</td>\n",
       "      <td>Unknown, Malaysia</td>\n",
       "    </tr>\n",
       "    <tr>\n",
       "      <th>4</th>\n",
       "      <td>Unknown</td>\n",
       "      <td>Malaysia</td>\n",
       "      <td>2020-03-15</td>\n",
       "      <td>4.2105</td>\n",
       "      <td>101.9758</td>\n",
       "      <td>POINT(101.9758 4.2105)</td>\n",
       "      <td>428</td>\n",
       "      <td>0</td>\n",
       "      <td>42</td>\n",
       "      <td>0</td>\n",
       "      <td>Unknown, Malaysia</td>\n",
       "    </tr>\n",
       "  </tbody>\n",
       "</table>\n",
       "</div>"
      ],
      "text/plain": [
       "  province_state country_region       date  latitude  longitude  \\\n",
       "0        Unknown       Malaysia 2020-03-08    2.5000   112.5000   \n",
       "1        Unknown       Malaysia 2020-03-10    2.5000   112.5000   \n",
       "2        Unknown      Singapore 2020-03-13    1.3521   103.8198   \n",
       "3        Unknown       Malaysia 2020-03-13    4.2105   101.9758   \n",
       "4        Unknown       Malaysia 2020-03-15    4.2105   101.9758   \n",
       "\n",
       "            location_geom  confirmed  deaths  recovered  active  \\\n",
       "0        POINT(112.5 2.5)         99       0         24       0   \n",
       "1        POINT(112.5 2.5)        129       0         24       0   \n",
       "2  POINT(103.8198 1.3521)        200       0         97       0   \n",
       "3  POINT(101.9758 4.2105)        197       0         26       0   \n",
       "4  POINT(101.9758 4.2105)        428       0         42       0   \n",
       "\n",
       "         combined_key  \n",
       "0   Unknown, Malaysia  \n",
       "1   Unknown, Malaysia  \n",
       "2  Unknown, Singapore  \n",
       "3   Unknown, Malaysia  \n",
       "4   Unknown, Malaysia  "
      ]
     },
     "execution_count": 194,
     "metadata": {},
     "output_type": "execute_result"
    }
   ],
   "source": [
    "df.head()"
   ]
  },
  {
   "cell_type": "code",
   "execution_count": 195,
   "metadata": {},
   "outputs": [
    {
     "data": {
      "text/html": [
       "<div>\n",
       "<style scoped>\n",
       "    .dataframe tbody tr th:only-of-type {\n",
       "        vertical-align: middle;\n",
       "    }\n",
       "\n",
       "    .dataframe tbody tr th {\n",
       "        vertical-align: top;\n",
       "    }\n",
       "\n",
       "    .dataframe thead th {\n",
       "        text-align: right;\n",
       "    }\n",
       "</style>\n",
       "<table border=\"1\" class=\"dataframe\">\n",
       "  <thead>\n",
       "    <tr style=\"text-align: right;\">\n",
       "      <th></th>\n",
       "      <th>province_state</th>\n",
       "      <th>country_region</th>\n",
       "      <th>date</th>\n",
       "      <th>latitude</th>\n",
       "      <th>longitude</th>\n",
       "      <th>location_geom</th>\n",
       "      <th>confirmed</th>\n",
       "      <th>deaths</th>\n",
       "      <th>recovered</th>\n",
       "      <th>active</th>\n",
       "      <th>combined_key</th>\n",
       "    </tr>\n",
       "  </thead>\n",
       "  <tbody>\n",
       "    <tr>\n",
       "      <th>11925</th>\n",
       "      <td>Pahang</td>\n",
       "      <td>Malaysia</td>\n",
       "      <td>2022-06-02</td>\n",
       "      <td>3.8126</td>\n",
       "      <td>103.3256</td>\n",
       "      <td>POINT(103.3256 3.8126)</td>\n",
       "      <td>171734</td>\n",
       "      <td>975</td>\n",
       "      <td>0</td>\n",
       "      <td>0</td>\n",
       "      <td>Pahang, Malaysia</td>\n",
       "    </tr>\n",
       "    <tr>\n",
       "      <th>11926</th>\n",
       "      <td>Pahang</td>\n",
       "      <td>Malaysia</td>\n",
       "      <td>2022-04-29</td>\n",
       "      <td>3.8126</td>\n",
       "      <td>103.3256</td>\n",
       "      <td>POINT(103.3256 3.8126)</td>\n",
       "      <td>170740</td>\n",
       "      <td>970</td>\n",
       "      <td>0</td>\n",
       "      <td>0</td>\n",
       "      <td>Pahang, Malaysia</td>\n",
       "    </tr>\n",
       "    <tr>\n",
       "      <th>11927</th>\n",
       "      <td>Pahang</td>\n",
       "      <td>Malaysia</td>\n",
       "      <td>2022-01-10</td>\n",
       "      <td>3.8126</td>\n",
       "      <td>103.3256</td>\n",
       "      <td>POINT(103.3256 3.8126)</td>\n",
       "      <td>97320</td>\n",
       "      <td>782</td>\n",
       "      <td>0</td>\n",
       "      <td>0</td>\n",
       "      <td>Pahang, Malaysia</td>\n",
       "    </tr>\n",
       "    <tr>\n",
       "      <th>11928</th>\n",
       "      <td>Pahang</td>\n",
       "      <td>Malaysia</td>\n",
       "      <td>2023-02-25</td>\n",
       "      <td>3.8126</td>\n",
       "      <td>103.3256</td>\n",
       "      <td>POINT(103.3256 3.8126)</td>\n",
       "      <td>182730</td>\n",
       "      <td>1031</td>\n",
       "      <td>0</td>\n",
       "      <td>0</td>\n",
       "      <td>Pahang, Malaysia</td>\n",
       "    </tr>\n",
       "    <tr>\n",
       "      <th>11929</th>\n",
       "      <td>Pahang</td>\n",
       "      <td>Malaysia</td>\n",
       "      <td>2022-09-29</td>\n",
       "      <td>3.8126</td>\n",
       "      <td>103.3256</td>\n",
       "      <td>POINT(103.3256 3.8126)</td>\n",
       "      <td>177522</td>\n",
       "      <td>1008</td>\n",
       "      <td>0</td>\n",
       "      <td>0</td>\n",
       "      <td>Pahang, Malaysia</td>\n",
       "    </tr>\n",
       "  </tbody>\n",
       "</table>\n",
       "</div>"
      ],
      "text/plain": [
       "      province_state country_region       date  latitude  longitude  \\\n",
       "11925         Pahang       Malaysia 2022-06-02    3.8126   103.3256   \n",
       "11926         Pahang       Malaysia 2022-04-29    3.8126   103.3256   \n",
       "11927         Pahang       Malaysia 2022-01-10    3.8126   103.3256   \n",
       "11928         Pahang       Malaysia 2023-02-25    3.8126   103.3256   \n",
       "11929         Pahang       Malaysia 2022-09-29    3.8126   103.3256   \n",
       "\n",
       "                location_geom  confirmed  deaths  recovered  active  \\\n",
       "11925  POINT(103.3256 3.8126)     171734     975          0       0   \n",
       "11926  POINT(103.3256 3.8126)     170740     970          0       0   \n",
       "11927  POINT(103.3256 3.8126)      97320     782          0       0   \n",
       "11928  POINT(103.3256 3.8126)     182730    1031          0       0   \n",
       "11929  POINT(103.3256 3.8126)     177522    1008          0       0   \n",
       "\n",
       "           combined_key  \n",
       "11925  Pahang, Malaysia  \n",
       "11926  Pahang, Malaysia  \n",
       "11927  Pahang, Malaysia  \n",
       "11928  Pahang, Malaysia  \n",
       "11929  Pahang, Malaysia  "
      ]
     },
     "execution_count": 195,
     "metadata": {},
     "output_type": "execute_result"
    }
   ],
   "source": [
    "df.tail()"
   ]
  },
  {
   "cell_type": "code",
   "execution_count": 196,
   "metadata": {},
   "outputs": [
    {
     "data": {
      "text/plain": [
       "(11930, 11)"
      ]
     },
     "execution_count": 196,
     "metadata": {},
     "output_type": "execute_result"
    }
   ],
   "source": [
    "df.shape"
   ]
  },
  {
   "cell_type": "code",
   "execution_count": 197,
   "metadata": {},
   "outputs": [
    {
     "name": "stdout",
     "output_type": "stream",
     "text": [
      "<class 'pandas.core.frame.DataFrame'>\n",
      "RangeIndex: 11930 entries, 0 to 11929\n",
      "Data columns (total 11 columns):\n",
      " #   Column          Non-Null Count  Dtype         \n",
      "---  ------          --------------  -----         \n",
      " 0   province_state  11930 non-null  object        \n",
      " 1   country_region  11930 non-null  object        \n",
      " 2   date            11930 non-null  datetime64[ns]\n",
      " 3   latitude        11930 non-null  float64       \n",
      " 4   longitude       11930 non-null  float64       \n",
      " 5   location_geom   11930 non-null  object        \n",
      " 6   confirmed       11930 non-null  int32         \n",
      " 7   deaths          11930 non-null  int32         \n",
      " 8   recovered       11930 non-null  int32         \n",
      " 9   active          11930 non-null  int32         \n",
      " 10  combined_key    11930 non-null  object        \n",
      "dtypes: datetime64[ns](1), float64(2), int32(4), object(4)\n",
      "memory usage: 839.0+ KB\n"
     ]
    }
   ],
   "source": [
    "df.info()"
   ]
  },
  {
   "cell_type": "code",
   "execution_count": 198,
   "metadata": {},
   "outputs": [
    {
     "data": {
      "text/html": [
       "<div>\n",
       "<style scoped>\n",
       "    .dataframe tbody tr th:only-of-type {\n",
       "        vertical-align: middle;\n",
       "    }\n",
       "\n",
       "    .dataframe tbody tr th {\n",
       "        vertical-align: top;\n",
       "    }\n",
       "\n",
       "    .dataframe thead th {\n",
       "        text-align: right;\n",
       "    }\n",
       "</style>\n",
       "<table border=\"1\" class=\"dataframe\">\n",
       "  <thead>\n",
       "    <tr style=\"text-align: right;\">\n",
       "      <th></th>\n",
       "      <th>date</th>\n",
       "      <th>latitude</th>\n",
       "      <th>longitude</th>\n",
       "      <th>confirmed</th>\n",
       "      <th>deaths</th>\n",
       "      <th>recovered</th>\n",
       "      <th>active</th>\n",
       "    </tr>\n",
       "  </thead>\n",
       "  <tbody>\n",
       "    <tr>\n",
       "      <th>count</th>\n",
       "      <td>11930</td>\n",
       "      <td>11930.000000</td>\n",
       "      <td>11930.000000</td>\n",
       "      <td>1.193000e+04</td>\n",
       "      <td>11930.000000</td>\n",
       "      <td>1.193000e+04</td>\n",
       "      <td>11930.000000</td>\n",
       "    </tr>\n",
       "    <tr>\n",
       "      <th>mean</th>\n",
       "      <td>2022-03-23 01:38:51.399832320</td>\n",
       "      <td>3.207323</td>\n",
       "      <td>99.560887</td>\n",
       "      <td>5.691203e+05</td>\n",
       "      <td>10279.442330</td>\n",
       "      <td>4.044388e+04</td>\n",
       "      <td>5481.933529</td>\n",
       "    </tr>\n",
       "    <tr>\n",
       "      <th>min</th>\n",
       "      <td>2020-01-23 00:00:00</td>\n",
       "      <td>-0.789300</td>\n",
       "      <td>0.000000</td>\n",
       "      <td>0.000000e+00</td>\n",
       "      <td>0.000000</td>\n",
       "      <td>0.000000e+00</td>\n",
       "      <td>0.000000</td>\n",
       "    </tr>\n",
       "    <tr>\n",
       "      <th>25%</th>\n",
       "      <td>2021-11-24 00:00:00</td>\n",
       "      <td>1.485400</td>\n",
       "      <td>101.518300</td>\n",
       "      <td>5.978950e+04</td>\n",
       "      <td>195.000000</td>\n",
       "      <td>0.000000e+00</td>\n",
       "      <td>0.000000</td>\n",
       "    </tr>\n",
       "    <tr>\n",
       "      <th>50%</th>\n",
       "      <td>2022-04-30 00:00:00</td>\n",
       "      <td>3.073800</td>\n",
       "      <td>102.238100</td>\n",
       "      <td>2.019505e+05</td>\n",
       "      <td>1424.000000</td>\n",
       "      <td>0.000000e+00</td>\n",
       "      <td>0.000000</td>\n",
       "    </tr>\n",
       "    <tr>\n",
       "      <th>75%</th>\n",
       "      <td>2022-10-03 18:00:00</td>\n",
       "      <td>5.311700</td>\n",
       "      <td>103.833300</td>\n",
       "      <td>3.569938e+05</td>\n",
       "      <td>2758.750000</td>\n",
       "      <td>0.000000e+00</td>\n",
       "      <td>0.000000</td>\n",
       "    </tr>\n",
       "    <tr>\n",
       "      <th>max</th>\n",
       "      <td>2023-03-09 00:00:00</td>\n",
       "      <td>6.444900</td>\n",
       "      <td>116.075300</td>\n",
       "      <td>6.738225e+06</td>\n",
       "      <td>624641.000000</td>\n",
       "      <td>2.907920e+06</td>\n",
       "      <td>574135.000000</td>\n",
       "    </tr>\n",
       "    <tr>\n",
       "      <th>std</th>\n",
       "      <td>NaN</td>\n",
       "      <td>2.234617</td>\n",
       "      <td>23.649867</td>\n",
       "      <td>1.245346e+06</td>\n",
       "      <td>33474.747351</td>\n",
       "      <td>2.184689e+05</td>\n",
       "      <td>32293.008938</td>\n",
       "    </tr>\n",
       "  </tbody>\n",
       "</table>\n",
       "</div>"
      ],
      "text/plain": [
       "                                date      latitude     longitude  \\\n",
       "count                          11930  11930.000000  11930.000000   \n",
       "mean   2022-03-23 01:38:51.399832320      3.207323     99.560887   \n",
       "min              2020-01-23 00:00:00     -0.789300      0.000000   \n",
       "25%              2021-11-24 00:00:00      1.485400    101.518300   \n",
       "50%              2022-04-30 00:00:00      3.073800    102.238100   \n",
       "75%              2022-10-03 18:00:00      5.311700    103.833300   \n",
       "max              2023-03-09 00:00:00      6.444900    116.075300   \n",
       "std                              NaN      2.234617     23.649867   \n",
       "\n",
       "          confirmed         deaths     recovered         active  \n",
       "count  1.193000e+04   11930.000000  1.193000e+04   11930.000000  \n",
       "mean   5.691203e+05   10279.442330  4.044388e+04    5481.933529  \n",
       "min    0.000000e+00       0.000000  0.000000e+00       0.000000  \n",
       "25%    5.978950e+04     195.000000  0.000000e+00       0.000000  \n",
       "50%    2.019505e+05    1424.000000  0.000000e+00       0.000000  \n",
       "75%    3.569938e+05    2758.750000  0.000000e+00       0.000000  \n",
       "max    6.738225e+06  624641.000000  2.907920e+06  574135.000000  \n",
       "std    1.245346e+06   33474.747351  2.184689e+05   32293.008938  "
      ]
     },
     "execution_count": 198,
     "metadata": {},
     "output_type": "execute_result"
    }
   ],
   "source": [
    "df.describe()"
   ]
  },
  {
   "cell_type": "code",
   "execution_count": 154,
   "metadata": {},
   "outputs": [
    {
     "data": {
      "text/plain": [
       "Index(['province_state', 'country_region', 'date', 'latitude', 'longitude',\n",
       "       'location_geom', 'confirmed', 'deaths', 'recovered', 'active', 'fips',\n",
       "       'admin2', 'combined_key'],\n",
       "      dtype='object')"
      ]
     },
     "execution_count": 154,
     "metadata": {},
     "output_type": "execute_result"
    }
   ],
   "source": [
    "df.columns"
   ]
  },
  {
   "cell_type": "code",
   "execution_count": 155,
   "metadata": {},
   "outputs": [
    {
     "data": {
      "text/plain": [
       "RangeIndex(start=0, stop=11930, step=1)"
      ]
     },
     "execution_count": 155,
     "metadata": {},
     "output_type": "execute_result"
    }
   ],
   "source": [
    "df.index"
   ]
  },
  {
   "cell_type": "code",
   "execution_count": 156,
   "metadata": {},
   "outputs": [
    {
     "data": {
      "text/plain": [
       "province_state            object\n",
       "country_region            object\n",
       "date              datetime64[ns]\n",
       "latitude                 float64\n",
       "longitude                float64\n",
       "location_geom             object\n",
       "confirmed                float64\n",
       "deaths                   float64\n",
       "recovered                float64\n",
       "active                   float64\n",
       "fips                     float64\n",
       "admin2                   float64\n",
       "combined_key              object\n",
       "dtype: object"
      ]
     },
     "execution_count": 156,
     "metadata": {},
     "output_type": "execute_result"
    }
   ],
   "source": [
    "df.dtypes"
   ]
  },
  {
   "cell_type": "code",
   "execution_count": 199,
   "metadata": {},
   "outputs": [
    {
     "data": {
      "text/plain": [
       "province_state       17\n",
       "country_region        3\n",
       "date               1142\n",
       "latitude             24\n",
       "longitude            23\n",
       "location_geom        24\n",
       "confirmed         11001\n",
       "deaths             3877\n",
       "recovered          1539\n",
       "active             1344\n",
       "combined_key         19\n",
       "dtype: int64"
      ]
     },
     "execution_count": 199,
     "metadata": {},
     "output_type": "execute_result"
    }
   ],
   "source": [
    "df.nunique()"
   ]
  },
  {
   "cell_type": "code",
   "execution_count": 200,
   "metadata": {},
   "outputs": [
    {
     "data": {
      "text/plain": [
       "province_state\n",
       "Unknown              3386\n",
       "W.P. Labuan           534\n",
       "Johor                 534\n",
       "Sabah                 534\n",
       "Kedah                 534\n",
       "W.P. Kuala Lumpur     534\n",
       "W.P. Putrajaya        534\n",
       "Melaka                534\n",
       "Perak                 534\n",
       "Negeri Sembilan       534\n",
       "Terengganu            534\n",
       "Kelantan              534\n",
       "Sarawak               534\n",
       "Pulau Pinang          534\n",
       "Perlis                534\n",
       "Selangor              534\n",
       "Pahang                534\n",
       "Name: count, dtype: int64"
      ]
     },
     "execution_count": 200,
     "metadata": {},
     "output_type": "execute_result"
    }
   ],
   "source": [
    "df['province_state'].value_counts()"
   ]
  },
  {
   "cell_type": "code",
   "execution_count": 201,
   "metadata": {},
   "outputs": [
    {
     "data": {
      "text/plain": [
       "array(['Unknown', 'Negeri Sembilan', 'Selangor', 'Perlis', 'Pulau Pinang',\n",
       "       'Sarawak', 'Kelantan', 'Terengganu', 'Perak', 'W.P. Labuan',\n",
       "       'Melaka', 'W.P. Putrajaya', 'W.P. Kuala Lumpur', 'Kedah', 'Sabah',\n",
       "       'Johor', 'Pahang'], dtype=object)"
      ]
     },
     "execution_count": 201,
     "metadata": {},
     "output_type": "execute_result"
    }
   ],
   "source": [
    "df['province_state'].unique()"
   ]
  },
  {
   "cell_type": "code",
   "execution_count": 202,
   "metadata": {},
   "outputs": [
    {
     "data": {
      "text/plain": [
       "country_region\n",
       "Malaysia     9685\n",
       "Singapore    1142\n",
       "Indonesia    1103\n",
       "Name: count, dtype: int64"
      ]
     },
     "execution_count": 202,
     "metadata": {},
     "output_type": "execute_result"
    }
   ],
   "source": [
    "df['country_region'].value_counts()"
   ]
  },
  {
   "cell_type": "code",
   "execution_count": 203,
   "metadata": {},
   "outputs": [
    {
     "data": {
      "text/plain": [
       "array(['Malaysia', 'Singapore', 'Indonesia'], dtype=object)"
      ]
     },
     "execution_count": 203,
     "metadata": {},
     "output_type": "execute_result"
    }
   ],
   "source": [
    "df['country_region'].unique()"
   ]
  },
  {
   "cell_type": "code",
   "execution_count": 205,
   "metadata": {},
   "outputs": [
    {
     "data": {
      "text/html": [
       "<div>\n",
       "<style scoped>\n",
       "    .dataframe tbody tr th:only-of-type {\n",
       "        vertical-align: middle;\n",
       "    }\n",
       "\n",
       "    .dataframe tbody tr th {\n",
       "        vertical-align: top;\n",
       "    }\n",
       "\n",
       "    .dataframe thead th {\n",
       "        text-align: right;\n",
       "    }\n",
       "</style>\n",
       "<table border=\"1\" class=\"dataframe\">\n",
       "  <thead>\n",
       "    <tr style=\"text-align: right;\">\n",
       "      <th></th>\n",
       "      <th></th>\n",
       "      <th>confirmed</th>\n",
       "      <th>deaths</th>\n",
       "      <th>recovered</th>\n",
       "      <th>active</th>\n",
       "    </tr>\n",
       "    <tr>\n",
       "      <th>country_region</th>\n",
       "      <th>province_state</th>\n",
       "      <th></th>\n",
       "      <th></th>\n",
       "      <th></th>\n",
       "      <th></th>\n",
       "    </tr>\n",
       "  </thead>\n",
       "  <tbody>\n",
       "    <tr>\n",
       "      <th>Indonesia</th>\n",
       "      <th>Unknown</th>\n",
       "      <td>3692006391</td>\n",
       "      <td>100334003</td>\n",
       "      <td>363930009</td>\n",
       "      <td>51382743</td>\n",
       "    </tr>\n",
       "    <tr>\n",
       "      <th rowspan=\"17\" valign=\"top\">Malaysia</th>\n",
       "      <th>Johor</th>\n",
       "      <td>183340114</td>\n",
       "      <td>2461677</td>\n",
       "      <td>3012</td>\n",
       "      <td>0</td>\n",
       "    </tr>\n",
       "    <tr>\n",
       "      <th>Kedah</th>\n",
       "      <td>140587320</td>\n",
       "      <td>1443311</td>\n",
       "      <td>1710</td>\n",
       "      <td>0</td>\n",
       "    </tr>\n",
       "    <tr>\n",
       "      <th>Kelantan</th>\n",
       "      <td>119538703</td>\n",
       "      <td>804498</td>\n",
       "      <td>725</td>\n",
       "      <td>0</td>\n",
       "    </tr>\n",
       "    <tr>\n",
       "      <th>Melaka</th>\n",
       "      <td>61011677</td>\n",
       "      <td>631648</td>\n",
       "      <td>824</td>\n",
       "      <td>0</td>\n",
       "    </tr>\n",
       "    <tr>\n",
       "      <th>Negeri Sembilan</th>\n",
       "      <td>98025611</td>\n",
       "      <td>856382</td>\n",
       "      <td>1187</td>\n",
       "      <td>0</td>\n",
       "    </tr>\n",
       "    <tr>\n",
       "      <th>Pahang</th>\n",
       "      <td>79664464</td>\n",
       "      <td>535045</td>\n",
       "      <td>557</td>\n",
       "      <td>0</td>\n",
       "    </tr>\n",
       "    <tr>\n",
       "      <th>Perak</th>\n",
       "      <td>101376931</td>\n",
       "      <td>1024163</td>\n",
       "      <td>775</td>\n",
       "      <td>0</td>\n",
       "    </tr>\n",
       "    <tr>\n",
       "      <th>Perlis</th>\n",
       "      <td>7779846</td>\n",
       "      <td>92335</td>\n",
       "      <td>56</td>\n",
       "      <td>0</td>\n",
       "    </tr>\n",
       "    <tr>\n",
       "      <th>Pulau Pinang</th>\n",
       "      <td>133675698</td>\n",
       "      <td>1123191</td>\n",
       "      <td>1197</td>\n",
       "      <td>0</td>\n",
       "    </tr>\n",
       "    <tr>\n",
       "      <th>Sabah</th>\n",
       "      <td>182989419</td>\n",
       "      <td>1769180</td>\n",
       "      <td>2037</td>\n",
       "      <td>0</td>\n",
       "    </tr>\n",
       "    <tr>\n",
       "      <th>Sarawak</th>\n",
       "      <td>155701847</td>\n",
       "      <td>1029862</td>\n",
       "      <td>710</td>\n",
       "      <td>0</td>\n",
       "    </tr>\n",
       "    <tr>\n",
       "      <th>Selangor</th>\n",
       "      <td>655172587</td>\n",
       "      <td>6213502</td>\n",
       "      <td>8880</td>\n",
       "      <td>0</td>\n",
       "    </tr>\n",
       "    <tr>\n",
       "      <th>Terengganu</th>\n",
       "      <td>60051309</td>\n",
       "      <td>464353</td>\n",
       "      <td>333</td>\n",
       "      <td>0</td>\n",
       "    </tr>\n",
       "    <tr>\n",
       "      <th>Unknown</th>\n",
       "      <td>188249100</td>\n",
       "      <td>1395414</td>\n",
       "      <td>94235277</td>\n",
       "      <td>12643956</td>\n",
       "    </tr>\n",
       "    <tr>\n",
       "      <th>W.P. Kuala Lumpur</th>\n",
       "      <td>186055777</td>\n",
       "      <td>1650447</td>\n",
       "      <td>2392</td>\n",
       "      <td>0</td>\n",
       "    </tr>\n",
       "    <tr>\n",
       "      <th>W.P. Labuan</th>\n",
       "      <td>9945442</td>\n",
       "      <td>91945</td>\n",
       "      <td>148</td>\n",
       "      <td>0</td>\n",
       "    </tr>\n",
       "    <tr>\n",
       "      <th>W.P. Putrajaya</th>\n",
       "      <td>11009837</td>\n",
       "      <td>21586</td>\n",
       "      <td>22</td>\n",
       "      <td>0</td>\n",
       "    </tr>\n",
       "    <tr>\n",
       "      <th>Singapore</th>\n",
       "      <th>Unknown</th>\n",
       "      <td>723422944</td>\n",
       "      <td>691205</td>\n",
       "      <td>24305676</td>\n",
       "      <td>1372768</td>\n",
       "    </tr>\n",
       "  </tbody>\n",
       "</table>\n",
       "</div>"
      ],
      "text/plain": [
       "                                   confirmed     deaths  recovered    active\n",
       "country_region province_state                                               \n",
       "Indonesia      Unknown            3692006391  100334003  363930009  51382743\n",
       "Malaysia       Johor               183340114    2461677       3012         0\n",
       "               Kedah               140587320    1443311       1710         0\n",
       "               Kelantan            119538703     804498        725         0\n",
       "               Melaka               61011677     631648        824         0\n",
       "               Negeri Sembilan      98025611     856382       1187         0\n",
       "               Pahang               79664464     535045        557         0\n",
       "               Perak               101376931    1024163        775         0\n",
       "               Perlis                7779846      92335         56         0\n",
       "               Pulau Pinang        133675698    1123191       1197         0\n",
       "               Sabah               182989419    1769180       2037         0\n",
       "               Sarawak             155701847    1029862        710         0\n",
       "               Selangor            655172587    6213502       8880         0\n",
       "               Terengganu           60051309     464353        333         0\n",
       "               Unknown             188249100    1395414   94235277  12643956\n",
       "               W.P. Kuala Lumpur   186055777    1650447       2392         0\n",
       "               W.P. Labuan           9945442      91945        148         0\n",
       "               W.P. Putrajaya       11009837      21586         22         0\n",
       "Singapore      Unknown             723422944     691205   24305676   1372768"
      ]
     },
     "execution_count": 205,
     "metadata": {},
     "output_type": "execute_result"
    }
   ],
   "source": [
    "df.groupby(['country_region','province_state']).agg({'confirmed':'sum','deaths':'sum','recovered':'sum','active':'sum',})"
   ]
  },
  {
   "cell_type": "markdown",
   "metadata": {},
   "source": [
    "## Conclusion"
   ]
  },
  {
   "cell_type": "markdown",
   "metadata": {},
   "source": [
    "Data berhasil diload dengan lancar\n",
    "\n",
    "Data Cleaning berhasil dijalankan dengan lancar\n",
    "\n",
    "Data Exploration berhasil memunculkan data sesuai yang diinginkan"
   ]
  }
 ],
 "metadata": {
  "kernelspec": {
   "display_name": "pyth39",
   "language": "python",
   "name": "python3"
  },
  "language_info": {
   "codemirror_mode": {
    "name": "ipython",
    "version": 3
   },
   "file_extension": ".py",
   "mimetype": "text/x-python",
   "name": "python",
   "nbconvert_exporter": "python",
   "pygments_lexer": "ipython3",
   "version": "3.9.18"
  }
 },
 "nbformat": 4,
 "nbformat_minor": 2
}
